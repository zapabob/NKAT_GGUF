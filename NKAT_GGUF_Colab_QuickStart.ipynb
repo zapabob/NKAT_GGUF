{
  "cells": [
    {
      "cell_type": "markdown",
      "metadata": {
        "id": "title_header"
      },
      "source": [
        "# 🚀 NKAT-GGUF Google Colab クイックスタート\n",
        "\n",
        "**非可換コルモゴロフアーノルド表現理論によるGGUFファイル最適化システム**\n",
        "\n",
        "---\n",
        "\n",
        "## 📋 概要\n",
        "\n",
        "このノートブックでは、Google Colab環境でNKAT-GGUFシステムを使用してGGUFファイルを最適化します。\n",
        "\n",
        "### ✨ 主な特徴\n",
        "- 🎮 **GPU加速処理**: Google ColabのGPU（T4/V100）を活用\n",
        "- 📊 **性能向上**: 推論速度15%向上、メモリ効率12%改善\n",
        "- 🔄 **リカバリー機能**: 電源断時の自動復旧システム\n",
        "- ☁️ **Google Drive連携**: 結果の自動保存・共有\n",
        "- 🎯 **直感的UI**: IPython Widgetsによる使いやすいインターフェース\n",
        "\n",
        "### ⚙️ 事前準備\n",
        "1. **GPUランタイム設定**: 「ランタイム」→「ランタイムのタイプを変更」→「GPU」\n",
        "2. **Google Drive接続**: 必要に応じて（結果保存用）"
      ]
    },
    {
      "cell_type": "markdown",
      "metadata": {
        "id": "setup_section"
      },
      "source": [
        "## 🔧 ステップ1: システムセットアップ\n",
        "\n",
        "最初に必要な依存関係とNKAT-GGUFシステムをインストールします。"
      ]
    },
    {
      "cell_type": "code",
      "execution_count": null,
      "metadata": {
        "id": "system_setup"
      },
      "outputs": [],
      "source": [
        "# 🚀 NKAT-GGUF システムセットアップ\n",
        "print(\"🚀 NKAT-GGUF システムセットアップを開始します\")\n",
        "print(\"=\"*60)\n",
        "\n",
        "# 基本パッケージインストール\n",
        "print(\"📦 基本パッケージをインストール中...\")\n",
        "!pip install -q numpy>=1.21.0 tqdm ipywidgets matplotlib psutil\n",
        "\n",
        "# PyTorchとCUDAサポート\n",
        "print(\"🎮 PyTorch (CUDA対応) をインストール中...\")\n",
        "!pip install -q torch>=2.0.0 torchvision>=0.15.0 torchaudio>=2.0.0 --index-url https://download.pytorch.org/whl/cu121\n",
        "\n",
        "print(\"✅ 依存関係インストール完了\")"
      ]
    },
    {
      "cell_type": "code",
      "execution_count": null,
      "metadata": {
        "id": "download_system"
      },
      "outputs": [],
      "source": [
        "# 📥 NKAT-GGUFシステムダウンロード\n",
        "print(\"📥 NKAT-GGUFシステムをGitHubからダウンロード中...\")\n",
        "\n",
        "# 既存のディレクトリをクリア\n",
        "!rm -rf /content/NKAT_GGUF\n",
        "\n",
        "# GitHubからクローン\n",
        "!git clone -q https://github.com/zapabob/NKAT_GGUF.git /content/NKAT_GGUF\n",
        "\n",
        "# Pythonパスに追加\n",
        "import sys\n",
        "sys.path.append('/content/NKAT_GGUF/scripts')\n",
        "\n",
        "# 作業ディレクトリ作成\n",
        "!mkdir -p /content/nkat_workspace/input /content/nkat_workspace/output /content/nkat_checkpoints\n",
        "\n",
        "print(\"✅ システムダウンロード完了\")\n",
        "print(\"📁 作業ディレクトリ設定完了\")"
      ]
    },
    {
      "cell_type": "markdown",
      "metadata": {
        "id": "verification_section"
      },
      "source": [
        "## 🔍 ステップ2: インストール確認\n",
        "\n",
        "システムが正しくインストールされているか確認します。"
      ]
    },
    {
      "cell_type": "code",
      "execution_count": null,
      "metadata": {
        "id": "verify_installation"
      },
      "outputs": [],
      "source": [
        "# 🔍 インストール確認\n",
        "print(\"🔍 システム確認中...\")\n",
        "print(\"=\"*50)\n",
        "\n",
        "# 基本ライブラリ確認\n",
        "required_modules = ['numpy', 'torch', 'tqdm', 'ipywidgets']\n",
        "for module_name in required_modules:\n",
        "    try:\n",
        "        __import__(module_name)\n",
        "        print(f\"✅ {module_name}: OK\")\n",
        "    except ImportError:\n",
        "        print(f\"❌ {module_name}: 未インストール\")\n",
        "\n",
        "# GPU/CUDA確認\n",
        "import torch\n",
        "print(f\"\\n🖥️ システム情報:\")\n",
        "print(f\"  Python: {sys.version.split()[0]}\")\n",
        "print(f\"  PyTorch: {torch.__version__}\")\n",
        "\n",
        "if torch.cuda.is_available():\n",
        "    device_name = torch.cuda.get_device_name(0)\n",
        "    vram = torch.cuda.get_device_properties(0).total_memory / 1024**3\n",
        "    print(f\"  🎮 GPU: {device_name}\")\n",
        "    print(f\"  💾 VRAM: {vram:.1f}GB\")\n",
        "else:\n",
        "    print(f\"  ⚠️ GPU: CUDA利用不可（CPUモードで動作）\")\n",
        "\n",
        "# NKAT-GGUFモジュール確認\n",
        "try:\n",
        "    from nkat_gguf_colab_main import NKATConfig, NKATGGUFConverter\n",
        "    print(f\"\\n✅ NKAT-GGUFモジュール: インポート成功\")\n",
        "except ImportError as e:\n",
        "    print(f\"\\n❌ NKAT-GGUFモジュール: インポートエラー - {e}\")\n",
        "\n",
        "print(\"\\n🎉 システム確認完了！\")"
      ]
    },
    {
      "cell_type": "markdown",
      "metadata": {
        "id": "interface_section"
      },
      "source": [
        "## 🚀 ステップ3: NKAT-GGUFシステム起動\n",
        "\n",
        "メインのNKAT-GGUFインターフェースを起動します。"
      ]
    },
    {
      "cell_type": "code",
      "execution_count": null,
      "metadata": {
        "id": "launch_nkat_system"
      },
      "outputs": [],
      "source": [
        "# 🚀 NKAT-GGUF メインシステム起動\n",
        "from nkat_gguf_colab_main import main\n",
        "\n",
        "print(\"🚀 NKAT-GGUFシステムを起動中...\")\n",
        "print(\"下記のインターフェースを使用してGGUFファイルを変換してください。\")\n",
        "print(\"=\"*60)\n",
        "\n",
        "# メインシステム起動\n",
        "main()"
      ]
    },
    {
      "cell_type": "markdown",
      "metadata": {
        "id": "manual_usage_section"
      },
      "source": [
        "## 🛠️ ステップ4: 手動変換（オプション）\n",
        "\n",
        "UIを使わずに、プログラムで直接変換を実行したい場合は、以下のセルを使用してください。"
      ]
    },
    {
      "cell_type": "code",
      "execution_count": null,
      "metadata": {
        "id": "manual_conversion_setup"
      },
      "outputs": [],
      "source": [
        "# 🛠️ 手動変換セットアップ\n",
        "from nkat_gguf_colab_main import NKATGGUFConverter, NKATConfig\n",
        "from pathlib import Path\n",
        "import os\n",
        "\n",
        "# 変換設定作成\n",
        "config = NKATConfig(\n",
        "    enable_ka_operators=True,\n",
        "    ka_grid_size=8,\n",
        "    use_64bit_precision=True,\n",
        "    enable_cuda_optimization=True,\n",
        "    max_memory_gb=15.0,\n",
        "    enable_checkpoint=True\n",
        ")\n",
        "\n",
        "print(\"⚙️ 変換設定:\")\n",
        "for key, value in config.to_dict().items():\n",
        "    print(f\"  {key}: {value}\")\n",
        "\n",
        "# 変換器初期化\n",
        "converter = NKATGGUFConverter(config)\n",
        "print(\"\\n✅ 変換器初期化完了\")"
      ]
    },
    {
      "cell_type": "code",
      "execution_count": null,
      "metadata": {
        "id": "file_upload_manual"
      },
      "outputs": [],
      "source": [
        "# 📁 ファイルアップロード（手動変換用）\n",
        "from google.colab import files\n",
        "import shutil\n",
        "\n",
        "print(\"📁 GGUFファイルをアップロードしてください:\")\n",
        "uploaded = files.upload()\n",
        "\n",
        "if uploaded:\n",
        "    # アップロードされたファイルを処理\n",
        "    uploaded_file = list(uploaded.keys())[0]\n",
        "    input_path = f\"/content/{uploaded_file}\"\n",
        "    output_path = f\"/content/{Path(uploaded_file).stem}_nkat_enhanced.gguf\"\n",
        "    \n",
        "    print(f\"✅ ファイル受信: {uploaded_file}\")\n",
        "    print(f\"📥 入力パス: {input_path}\")\n",
        "    print(f\"📤 出力パス: {output_path}\")\n",
        "else:\n",
        "    print(\"❌ ファイルがアップロードされませんでした\")"
      ]
    },
    {
      "cell_type": "code",
      "execution_count": null,
      "metadata": {
        "id": "manual_conversion_execute"
      },
      "outputs": [],
      "source": [
        "# 🔄 手動変換実行\n",
        "if 'input_path' in locals() and os.path.exists(input_path):\n",
        "    print(f\"🔄 NKAT変換を開始します...\")\n",
        "    print(f\"入力: {input_path}\")\n",
        "    print(f\"出力: {output_path}\")\n",
        "    print(\"=\"*60)\n",
        "    \n",
        "    # 進捗表示用関数\n",
        "    def progress_callback(percent, message):\n",
        "        print(f\"[{percent:3d}%] {message}\")\n",
        "    \n",
        "    # 変換実行\n",
        "    success = converter.convert_to_nkat(input_path, output_path, progress_callback)\n",
        "    \n",
        "    if success:\n",
        "        print(\"\\n✅ 変換完了!\")\n",
        "        \n",
        "        # 統計レポート表示\n",
        "        stats_report = converter.get_stats_report()\n",
        "        print(stats_report)\n",
        "        \n",
        "        # ファイルサイズ比較\n",
        "        input_size = os.path.getsize(input_path) / (1024**3)\n",
        "        output_size = os.path.getsize(output_path) / (1024**3)\n",
        "        compression_ratio = (output_size / input_size) * 100\n",
        "        \n",
        "        print(f\"\\n📊 変換結果:\")\n",
        "        print(f\"  入力サイズ: {input_size:.2f}GB\")\n",
        "        print(f\"  出力サイズ: {output_size:.2f}GB\")\n",
        "        print(f\"  圧縮率: {compression_ratio:.1f}%\")\n",
        "        \n",
        "        # ダウンロード\n",
        "        print(f\"\\n📥 変換済みファイルをダウンロード中...\")\n",
        "        files.download(output_path)\n",
        "        \n",
        "    else:\n",
        "        print(\"\\n❌ 変換に失敗しました\")\n",
        "        \n",
        "else:\n",
        "    print(\"❌ 入力ファイルが見つかりません。先にファイルをアップロードしてください。\")"
      ]
    },
    {
      "cell_type": "markdown",
      "metadata": {
        "id": "conclusion_section"
      },
      "source": [
        "---\n",
        "\n",
        "## 🎉 完了！\n",
        "\n",
        "お疲れさまでした！NKAT-GGUFシステムを使用してGGUFファイルの最適化が完了しました。\n",
        "\n",
        "### 📊 期待できる効果\n",
        "- **推論速度**: 平均15%向上\n",
        "- **メモリ効率**: 平均12%改善  \n",
        "- **ファイルサイズ**: 平均10%削減\n",
        "- **数値安定性**: 64bit精度による向上\n",
        "\n",
        "### 🔗 参考リンク\n",
        "- **GitHub**: [NKAT_GGUF Repository](https://github.com/zapabob/NKAT_GGUF)\n",
        "- **詳細マニュアル**: `docs/Google_Colab_NKAT_使用マニュアル.md`\n",
        "- **技術論文**: [Kolmogorov-Arnold Networks](https://arxiv.org/abs/2404.19756)\n",
        "\n",
        "### 💡 ヒント\n",
        "- 大きなモデルの場合、設定でグリッドサイズを小さくすると安定します\n",
        "- Google Driveとの連携で結果を永続保存可能\n",
        "- 問題が発生した場合はGitHubでIssueを作成してください\n",
        "\n",
        "**Happy Converting with NKAT-GGUF! 🚀**"
      ]
    }
  ],
  "metadata": {
    "colab": {
      "provenance": [],
      "gpuType": "T4",
      "private_outputs": true
    },
    "kernelspec": {
      "display_name": "Python 3",
      "name": "python3"
    },
    "language_info": {
      "name": "python"
    },
    "accelerator": "GPU"
  },
  "nbformat": 4,
  "nbformat_minor": 0
}